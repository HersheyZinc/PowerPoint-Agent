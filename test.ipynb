{
 "cells": [
  {
   "cell_type": "code",
   "execution_count": 1,
   "metadata": {},
   "outputs": [],
   "source": [
    "from src.agent import AgentPPT\n",
    "from src.openai import generate_image, query\n",
    "from src.ppt_reader import get_shape_content\n",
    "from src.utils import fromEmus, ppt_to_pdf, pdf_to_img\n",
    "from pptx import Presentation\n",
    "import src.prompts as prompts\n",
    "import json, os, tempfile, shutil\n"
   ]
  },
  {
   "cell_type": "code",
   "execution_count": 2,
   "metadata": {},
   "outputs": [
    {
     "name": "stdout",
     "output_type": "stream",
     "text": [
      "{'text': 'Raccoons', 'font_color': '#008000'}\n",
      "{'image_content': 'Picture of a basketball', 'width': 50, 'height': 50, 'top': 140, 'left': 204}\n",
      "{'text': 'I love fish'}\n",
      "{'table_data': ['Company', 'Stock Price', 'Tesla', '$800', 'Google', '$2800'], 'width': 228, 'height': 20, 'top': 170, 'left': 12}\n"
     ]
    }
   ],
   "source": [
    "agent = AgentPPT()\n",
    "r1 = agent.action_module(\"Change the title to 'Raccoons', and set the font color to green\", slide_idx=0)\n",
    "r2 = agent.action_module(\"Change the background to pink. Add a picture of a basketball to the bottom right\", slide_idx=0)\n",
    "r3 = agent.action_module(\"Change the content to 'I love fish'. Insert a 3x2 table on tesla annd google stock prices.\", slide_idx=0)\n",
    "agent.save_ppt()"
   ]
  },
  {
   "cell_type": "code",
   "execution_count": 3,
   "metadata": {},
   "outputs": [
    {
     "name": "stdout",
     "output_type": "stream",
     "text": [
      "{'table_data': ['Company', 'Stock Price', 'Apple', 'Price', 'Tesla', 'Price', 'Google', 'Price'], 'width': 228, 'height': 20, 'top': 170, 'left': 12}\n"
     ]
    }
   ],
   "source": [
    "agent = AgentPPT()\n",
    "r1 = agent.action_module(\"Add a table describing the stock prices of apple, tesla, and google\", slide_idx=0)\n",
    "agent.save_ppt()"
   ]
  },
  {
   "cell_type": "code",
   "execution_count": 4,
   "metadata": {},
   "outputs": [
    {
     "name": "stdout",
     "output_type": "stream",
     "text": [
      "API - insert_shape | parameters - {'shape_type': 'TABLE', 'instructions': \"Insert a table with 2 columns and 4 rows at position left = 12.7, top = 170.0. The first column should have the header 'Company' and the second column should have the header 'Stock Price'. The rows should list 'Apple', 'Tesla', and 'Google' under 'Company' with placeholder text 'Price' under 'Stock Price'. The table should fit within a width of 228.6 and a height of 20.5.\"} | Status - SUCCESS\n",
      "\n"
     ]
    }
   ],
   "source": [
    "print(r1)"
   ]
  },
  {
   "cell_type": "code",
   "execution_count": 4,
   "metadata": {},
   "outputs": [
    {
     "name": "stdout",
     "output_type": "stream",
     "text": [
      "(<pptx.text.text._Run object at 0x000001DAEBBCF950>,)\n"
     ]
    }
   ],
   "source": [
    "shape = agent.ppt.slides[0].shapes[0]\n",
    "for i in shape.text_frame.paragraphs:\n",
    "    print(i.runs)"
   ]
  },
  {
   "cell_type": "code",
   "execution_count": 5,
   "metadata": {},
   "outputs": [
    {
     "ename": "SyntaxError",
     "evalue": "invalid syntax (4013004126.py, line 6)",
     "output_type": "error",
     "traceback": [
      "\u001b[1;36m  Cell \u001b[1;32mIn[5], line 6\u001b[1;36m\u001b[0m\n\u001b[1;33m    shape.\u001b[0m\n\u001b[1;37m          ^\u001b[0m\n\u001b[1;31mSyntaxError\u001b[0m\u001b[1;31m:\u001b[0m invalid syntax\n"
     ]
    }
   ],
   "source": [
    "ppt = Presentation()\n",
    "slide_layout = ppt.slide_layouts[1]\n",
    "slide = ppt.slides.add_slide(slide_layout)\n",
    "shape = slide.shapes[0]\n",
    "shape.text = \"Raccoon\"\n",
    "shape.\n",
    "\n",
    "temp_dir = tempfile.mkdtemp()\n",
    "\n",
    "temp_ppt_path = os.path.join(temp_dir, \"temp_presentation.pptx\")\n",
    "ppt.save(temp_ppt_path)\n",
    "pdf_path = ppt_to_pdf(temp_ppt_path, temp_dir)\n",
    "imgs = slide_images = pdf_to_img(pdf_path)\n",
    "\n",
    "shutil.rmtree(temp_dir)\n",
    "\n",
    "imgs[0]"
   ]
  },
  {
   "cell_type": "code",
   "execution_count": 18,
   "metadata": {},
   "outputs": [
    {
     "name": "stdout",
     "output_type": "stream",
     "text": [
      "['__class__', '__delattr__', '__dict__', '__dir__', '__doc__', '__eq__', '__format__', '__ge__', '__getattribute__', '__getstate__', '__gt__', '__hash__', '__init__', '__init_subclass__', '__le__', '__lt__', '__module__', '__ne__', '__new__', '__reduce__', '__reduce_ex__', '__repr__', '__setattr__', '__sizeof__', '__str__', '__subclasshook__', '__weakref__', '_color', '_validate_brightness_value', '_xFill', 'brightness', 'from_colorchoice_parent', 'rgb', 'theme_color', 'type']\n"
     ]
    }
   ],
   "source": [
    "print(dir(shape.text_frame.paragraphs[0].font.color))"
   ]
  }
 ],
 "metadata": {
  "kernelspec": {
   "display_name": "fyp",
   "language": "python",
   "name": "python3"
  },
  "language_info": {
   "codemirror_mode": {
    "name": "ipython",
    "version": 3
   },
   "file_extension": ".py",
   "mimetype": "text/x-python",
   "name": "python",
   "nbconvert_exporter": "python",
   "pygments_lexer": "ipython3",
   "version": "3.12.4"
  }
 },
 "nbformat": 4,
 "nbformat_minor": 2
}
