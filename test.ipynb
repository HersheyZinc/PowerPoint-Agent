{
 "cells": [
  {
   "cell_type": "code",
   "execution_count": 1,
   "metadata": {},
   "outputs": [],
   "source": [
    "from src.agent import AgentPPT\n",
    "from src.openai import generate_image, query\n",
    "from src.ppt_reader import get_shape_content\n",
    "from src.utils import fromEmus, ppt_to_pdf, pdf_to_img, toEmus\n",
    "from pptx import Presentation\n",
    "import src.prompts as prompts\n",
    "import json, os, tempfile, shutil\n"
   ]
  },
  {
   "cell_type": "code",
   "execution_count": 3,
   "metadata": {},
   "outputs": [
    {
     "name": "stdout",
     "output_type": "stream",
     "text": [
      "2025-04-03 18:27:55 - AgentPPT instance created with model: gpt-4o, src_path: src_path, dst_path: working.pptx \n",
      "\n",
      "2025-04-03 18:27:55 - Cleared chat history. \n",
      "\n",
      "2025-04-03 18:27:55 - New presentation created \n",
      "\n",
      "2025-04-03 18:27:55 - Calling PLAN module with prompt: Plan a birthday party at the aquarium. \n",
      "\n",
      "2025-04-03 18:27:58 - Enhanced orginal prompt:\n",
      "Enhanced Query: \"Plan a birthday party at the aquarium. Create a PowerPoint presentation with the following structure: \n",
      "\n",
      "1. **Title Slide**: Include the party theme, date, and location.\n",
      "2. **Overview Slide**: Briefly describe the aquarium and its features.\n",
      "3. **Guest List Slide**: Outline the number of guests and any special considerations (e.g., age groups).\n",
      "4. **Activities Slide**: List planned activities such as guided tours, feeding sessions, and interactive exhibits.\n",
      "5. **Food and Beverage Slide**: Detail the catering options, including menu items and any dietary restrictions.\n",
      "6. **Decorations Slide**: Suggest decoration ideas that fit the aquarium theme, such as ocean colors and marine life motifs.\n",
      "7. **Budget Slide**: Provide a breakdown of estimated costs for venue rental, food, activities, and decorations.\n",
      "8. **Logistics Slide**: Include information on transportation, parking, and any necessary permits.\n",
      "9. **RSVP Slide**: Explain how guests can confirm their attendance.\n",
      "\n",
      "Use colorful visuals of the aquarium and marine life throughout the presentation to enhance engagement.\" \n",
      "\n",
      "2025-04-03 18:28:07 - Slide inserted with template: Title Slide \n",
      "\n",
      "2025-04-03 18:28:07 - Calling ACTION module on slide 0 with prompt: Modify the slide according to the following instructions: Include the party theme 'Under the Sea Adventure', date 'March 15, 2024', and location 'City Aquarium'. Use a vibrant ocean background with images of marine life. \n",
      "\n",
      "2025-04-03 18:28:13 - API - modify_background | Status - SUCCESS | Background color modified: #00BFFF | Arguments - {'fill_color': '#00BFFF'}\n",
      "API - insert_shape | Status - SUCCESS | Shape inserted: TEXT_BOX | Shape modified: {\"text\": \"Under the Sea Adventure\", \"font_color\": \"#FFFFFF\", \"font_size\": 24, \"bold\": true, \"top\": 0, \"left\": 25, \"width\": 50, \"height\": 20} | Arguments - {'shape_type': 'TEXT_BOX', 'instructions': \"Include the text 'Under the Sea Adventure' at the top center of the slide with a bold, large font size, and a color that contrasts well with the ocean background.\"}\n",
      "API - insert_shape | Status - SUCCESS | Shape inserted: TEXT_BOX | Shape modified: {\"text\": \"Date: March 15, 2024\", \"font_size\": 14, \"font_color\": \"#000000\"} | Arguments - {'shape_type': 'TEXT_BOX', 'instructions': \"Include the text 'Date: March 15, 2024' below the theme text, using a medium font size and a color that complements the theme.\"}\n",
      "API - insert_shape | Status - SUCCESS | Shape inserted: TEXT_BOX | Shape modified: {\"text\": \"Location: City Aquarium\", \"font_size\": 14, \"font_color\": \"#007BFF\"} | Arguments - {'shape_type': 'TEXT_BOX', 'instructions': \"Include the text 'Location: City Aquarium' below the date text, using a medium font size and a color that complements the theme.\"}\n",
      "API - insert_shape | Status - SUCCESS | Shape inserted: PICTURE | Shape modified: {\"image_content\": \"Images of marine life, such as fish, coral, and sea turtles, scattered around the slide to enhance the ocean theme.\"} | Arguments - {'shape_type': 'PICTURE', 'instructions': 'Insert images of marine life, such as fish, coral, and sea turtles, scattered around the slide to enhance the ocean theme.'} \n",
      "\n",
      "2025-04-03 18:28:13 - Slide inserted with template: Title and Content \n",
      "\n",
      "2025-04-03 18:28:13 - Calling ACTION module on slide 1 with prompt: Modify the slide according to the following instructions: Title: 'Aquarium Overview'. Content: Briefly describe the aquarium, highlighting its large tanks, diverse marine species, and interactive exhibits. Use images of the aquarium's main attractions. \n",
      "\n",
      "2025-04-03 18:28:17 - API - modify_shape | Status - SUCCESS | Shape modified: {\"text\": \"Aquarium Overview\"} | Arguments - {'shape_index': 0, 'instructions': \"Update the text to 'Aquarium Overview'.\"}\n",
      "API - modify_shape | Status - SUCCESS | Shape modified: {\"text\": \"The aquarium features large tanks that house a diverse range of marine species, offering visitors a glimpse into the underwater world. Interactive exhibits allow guests to engage with the marine life, providing an educational and immersive experience. Images of the aquarium's main attractions, such as the shark tank and coral reef exhibit, are included to enhance the visual appeal.\", \"width\": 300, \"height\": 150} | Arguments - {'shape_index': 1, 'instructions': \"Add content describing the aquarium, focusing on its large tanks, diverse marine species, and interactive exhibits. Include images of the aquarium's main attractions.\"} \n",
      "\n",
      "2025-04-03 18:28:18 - Slide inserted with template: Title and Content \n",
      "\n",
      "2025-04-03 18:28:18 - Calling ACTION module on slide 2 with prompt: Modify the slide according to the following instructions: Title: 'Guest List'. Content: Outline the number of guests (approx. 30), including children and adults. Mention any special considerations such as age-appropriate activities for kids. \n",
      "\n",
      "2025-04-03 18:28:20 - API - modify_shape | Status - SUCCESS | Shape modified: {\"text\": \"Guest List\"} | Arguments - {'shape_index': 0, 'instructions': \"Change the text to 'Guest List'.\"}\n",
      "API - modify_shape | Status - SUCCESS | Shape modified: {\"text\": \"Approximately 30 guests, including both children and adults. Special considerations include age-appropriate activities for kids.\"} | Arguments - {'shape_index': 1, 'instructions': 'Update the content to include details about the number of guests, approximately 30, including both children and adults. Mention any special considerations such as age-appropriate activities for kids.'} \n",
      "\n",
      "2025-04-03 18:28:21 - Slide inserted with template: Title and Content \n",
      "\n",
      "2025-04-03 18:28:21 - Calling ACTION module on slide 3 with prompt: Modify the slide according to the following instructions: Title: 'Planned Activities'. Content: List activities such as guided tours, feeding sessions, and interactive exhibits. Include visuals of these activities to engage the audience. \n",
      "\n",
      "2025-04-03 18:28:25 - API - modify_shape | Status - SUCCESS | Shape modified: {\"text\": \"Planned Activities\"} | Arguments - {'shape_index': 0, 'instructions': \"Change the text to 'Planned Activities'.\"}\n",
      "API - modify_shape | Status - SUCCESS | Shape modified: {\"text\": \"Activities:\\n- Guided Tours\\n- Feeding Sessions\\n- Interactive Exhibits\", \"font_color\": \"#000000\", \"font_size\": 14, \"bold\": true} | Arguments - {'shape_index': 1, 'instructions': 'Update the content to list activities: guided tours, feeding sessions, and interactive exhibits. Ensure the text is clear and engaging.'}\n",
      "API - insert_shape | Status - SUCCESS | Shape inserted: PICTURE | Shape modified: {\"image_content\": \"Visuals representing guided tours, feeding sessions, and interactive exhibits.\", \"width\": 127, \"height\": 127, \"top\": 50, \"left\": 50, \"has_border\": false} | Arguments - {'shape_type': 'PICTURE', 'instructions': 'Insert visuals representing guided tours, feeding sessions, and interactive exhibits. Position them within the content area to complement the text.'} \n",
      "\n",
      "2025-04-03 18:28:25 - Slide inserted with template: Title and Content \n",
      "\n",
      "2025-04-03 18:28:25 - Calling ACTION module on slide 4 with prompt: Modify the slide according to the following instructions: Title: 'Food and Beverage'. Content: Detail catering options with menu items like seafood platters, vegetarian dishes, and kid-friendly snacks. Mention any dietary restrictions. Use images of the food. \n",
      "\n",
      "2025-04-03 18:28:30 - API - modify_shape | Status - SUCCESS | Shape modified: {\"text\": \"Food and Beverage\"} | Arguments - {'shape_index': 0, 'instructions': \"Update the title text to 'Food and Beverage'.\"}\n",
      "API - modify_shape | Status - SUCCESS | Shape modified: {\"text\": \"Catering Options:\\n- Seafood Platters\\n- Vegetarian Dishes\\n- Kid-Friendly Snacks\\n\\nPlease inform us of any dietary restrictions.\"} | Arguments - {'shape_index': 1, 'instructions': 'Update the content to include details on catering options with menu items such as seafood platters, vegetarian dishes, and kid-friendly snacks. Mention any dietary restrictions.'}\n",
      "API - insert_shape | Status - SUCCESS | Shape inserted: PICTURE | Shape modified: {\"image_content\": \"Images of seafood platters, vegetarian dishes, and kid-friendly snacks.\", \"top\": 0, \"left\": 0} | Arguments - {'shape_type': 'PICTURE', 'instructions': 'Insert images of food, such as seafood platters, vegetarian dishes, and kid-friendly snacks. Position them around the content area, ensuring they complement the text.'} \n",
      "\n",
      "2025-04-03 18:28:30 - Slide inserted with template: Title and Content \n",
      "\n",
      "2025-04-03 18:28:30 - Calling ACTION module on slide 5 with prompt: Modify the slide according to the following instructions: Title: 'Decorations'. Content: Suggest decoration ideas such as ocean colors, marine life motifs, and themed table settings. Include visuals of decoration examples. \n",
      "\n",
      "2025-04-03 18:28:33 - API - modify_shape | Status - SUCCESS | Shape modified: {\"text\": \"Decorations\"} | Arguments - {'shape_index': 0, 'instructions': \"Change the title text to 'Decorations'.\"}\n",
      "API - modify_shape | Status - SUCCESS | Shape modified: {\"text\": \"Decoration Ideas:\\n- Ocean Colors\\n- Marine Life Motifs\\n- Themed Table Settings\\n\\nInclude visuals of decoration examples.\"} | Arguments - {'shape_index': 1, 'instructions': 'Update the content to suggest decoration ideas such as ocean colors, marine life motifs, and themed table settings. Include visuals of decoration examples.'} \n",
      "\n",
      "2025-04-03 18:28:35 - Slide inserted with template: Title and Content \n",
      "\n",
      "2025-04-03 18:28:35 - Calling ACTION module on slide 6 with prompt: Modify the slide according to the following instructions: Title: 'Budget'. Content: Provide a breakdown of estimated costs for venue rental, food, activities, and decorations. Use a simple table or chart for clarity. \n",
      "\n",
      "2025-04-03 18:28:38 - API - modify_shape | Status - SUCCESS | Shape modified: {\"text\": \"Budget\"} | Arguments - {'shape_index': 0, 'instructions': \"Change the text to 'Budget'.\"}\n",
      "API - insert_shape | Status - SUCCESS | Shape inserted: TABLE | Shape modified: {\"width\": 228, \"height\": 125, \"top\": 44, \"left\": 12} | Arguments - {'shape_type': 'TABLE', 'instructions': 'Create a table to display the estimated costs for venue rental, food, activities, and decorations. Position it at left: 12.7, top: 44.45, with a width of 228.6 and height of 125.72 to fit within the existing content area.'} \n",
      "\n",
      "2025-04-03 18:28:39 - Slide inserted with template: Title and Content \n",
      "\n",
      "2025-04-03 18:28:39 - Calling ACTION module on slide 7 with prompt: Modify the slide according to the following instructions: Title: 'Logistics'. Content: Include information on transportation options, parking availability, and any necessary permits. Use icons or images to represent each point. \n",
      "\n",
      "2025-04-03 18:28:42 - API - modify_shape | Status - SUCCESS | Shape modified: {\"text\": \"Logistics\"} | Arguments - {'shape_index': 0, 'instructions': \"Change the text to 'Logistics'.\"}\n",
      "API - modify_shape | Status - SUCCESS | Shape modified: {\"text\": \"Transportation options, parking availability, and necessary permits\", \"width\": 250, \"height\": 150} | Arguments - {'shape_index': 1, 'instructions': 'Update the content to include information on transportation options, parking availability, and necessary permits. Use icons or images to visually represent each point.'} \n",
      "\n",
      "2025-04-03 18:28:43 - Slide inserted with template: Title and Content \n",
      "\n",
      "2025-04-03 18:28:43 - Calling ACTION module on slide 8 with prompt: Modify the slide according to the following instructions: Title: 'RSVP'. Content: Explain how guests can confirm their attendance, including contact details and deadline for RSVP. Use a friendly and inviting tone. \n",
      "\n",
      "2025-04-03 18:28:46 - API - modify_shape | Status - SUCCESS | Shape modified: {\"text\": \"RSVP\"} | Arguments - {'shape_index': 0, 'instructions': \"Change the title text to 'RSVP'.\"}\n",
      "API - modify_shape | Status - SUCCESS | Shape modified: {\"text\": \"We would love to have you join us! Please confirm your attendance by reaching out to us at rsvp@example.com or call us at (123) 456-7890. Kindly RSVP by November 15th. We look forward to celebrating with you!\"} | Arguments - {'shape_index': 1, 'instructions': 'Update the content to explain how guests can confirm their attendance. Include contact details and a deadline for RSVP. Use a friendly and inviting tone.'} \n",
      "\n",
      "2025-04-03 18:28:47 - Agent response: \n",
      "The presentation was successfully updated with nine slides, each featuring specific content and visuals related to an 'Under the Sea Adventure' party theme. All modifications, including text updates, image insertions, and background changes, were completed successfully without any unsuccessful changes. \n",
      "\n",
      "2025-04-03 18:28:47 - Presentation saved to working.pptx \n",
      "\n"
     ]
    }
   ],
   "source": [
    "agent = AgentPPT()\n",
    "r = agent.plan_module(\"Plan a birthday party at the aquarium.\")\n",
    "agent.save_ppt()"
   ]
  },
  {
   "cell_type": "code",
   "execution_count": 7,
   "metadata": {},
   "outputs": [
    {
     "name": "stdout",
     "output_type": "stream",
     "text": [
      "2025-04-03 17:46:00 - Calling PLAN module with prompt: I'm expecting 3 guests and there should be bird petting \n",
      "\n",
      "2025-04-03 17:46:02 - Calling ACTION module on slide 3 with prompt: Modify the slide to fulfil the following:Update the guest list to reflect 3 expected guests, including children and adults. Remove any mention of special considerations for age-appropriate activities and dietary restrictions. \n",
      "\n",
      "2025-04-03 17:46:04 - API - modify_shape | Status - SUCCESS | Shape modified: {\"text\": \"\\nOutline the expected number of 3 guests, including children and adults.\"} | Arguments - {'shape_index': 1, 'instructions': \"Update the text to reflect 3 expected guests, including children and adults. Remove any mention of special considerations for age-appropriate activities and dietary restrictions. The updated text should be: '\\\\nOutline the expected number of 3 guests, including children and adults.'\"} \n",
      "\n",
      "2025-04-03 17:46:04 - Calling ACTION module on slide 4 with prompt: Modify the slide to fulfil the following:Add 'Bird petting sessions' to the list of activities. \n",
      "\n",
      "2025-04-03 17:46:08 - API - modify_shape | Status - SUCCESS | Shape modified: {\"text\": \"Guided tours of the aquarium\\nFeeding sessions with marine animals\\nInteractive exhibits for children\\nBird petting sessions\"} | Arguments - {'shape_index': 1, 'instructions': \"Add a new line with the text 'Bird petting sessions' at the end of the existing text.\"} \n",
      "\n",
      "2025-04-03 17:46:09 - Agent response: \n",
      "Slide 3 was updated to reflect 3 expected guests, including children and adults, with the removal of any mention of special considerations. Slide 4 had \"Bird petting sessions\" added to the list of activities. \n",
      "\n",
      "2025-04-03 17:46:09 - Presentation saved to working.pptx \n",
      "\n"
     ]
    }
   ],
   "source": [
    "agent.plan_module(\"I'm expecting 3 guests and there should be bird petting\")\n",
    "agent.save_ppt()"
   ]
  },
  {
   "cell_type": "code",
   "execution_count": 6,
   "metadata": {},
   "outputs": [
    {
     "name": "stdout",
     "output_type": "stream",
     "text": [
      "2025-04-02 22:01:18 - AgentPPT instance created with model: gpt-4o, src_path: src_path, dst_path: working.pptx \n",
      "\n",
      "2025-04-02 22:01:18 - Cleared chat history. \n",
      "\n",
      "2025-04-02 22:01:18 - New presentation created \n",
      "\n",
      "2025-04-02 22:01:18 - Calling ACTION module on slide 0 with prompt: Change the contents of the slide to the folowing.Title: Day 1 - Discover Seoul\n",
      "Content:\n",
      "- Morning: Visit Gyeongbokgung Palace\n",
      "  - Experience the Changing of the Guard ceremony\n",
      "  - Explore the National Folk Museum\n",
      "- Afternoon: Stroll through Insadong\n",
      "  - Enjoy traditional tea houses and shops\n",
      "- Evening: N Seoul Tower\n",
      "  - Panoramic views of the city\n",
      "  - Dine at the revolving restaurant  \n",
      "\n",
      "2025-04-02 22:01:25 - API - modify_shape | Status - SUCCESS | Shape modified: {\"text\": \"Day 1 - Discover Seoul\"} | Arguments - {'shape_index': 0, 'instructions': \"Change text to 'Day 1 - Discover Seoul'.\"}\n",
      "API - modify_shape | Status - SUCCESS | Shape modified: {\"text\": \"\\nMorning: Visit Gyeongbokgung Palace\\n  Experience the Changing of the Guard ceremony\\n  Explore the National Folk Museum\\nAfternoon: Stroll through Insadong\\n  Enjoy traditional tea houses and shops\\nEvening: N Seoul Tower\\n  Panoramic views of the city\\n  Dine at the revolving restaurant\"} | Arguments - {'shape_index': 1, 'instructions': \"Change text to '\\\\nMorning: Visit Gyeongbokgung Palace\\\\n  Experience the Changing of the Guard ceremony\\\\n  Explore the National Folk Museum\\\\nAfternoon: Stroll through Insadong\\\\n  Enjoy traditional tea houses and shops\\\\nEvening: N Seoul Tower\\\\n  Panoramic views of the city\\\\n  Dine at the revolving restaurant'.\"} \n",
      "\n",
      "2025-04-02 22:01:25 - Presentation saved to working.pptx \n",
      "\n"
     ]
    }
   ],
   "source": [
    "agent = AgentPPT()\n",
    "agent.insert_slide()\n",
    "agent.action_module(\"\"\"Change the contents of the slide to the folowing.Title: Day 1 - Discover Seoul\n",
    "Content:\n",
    "- Morning: Visit Gyeongbokgung Palace\n",
    "  - Experience the Changing of the Guard ceremony\n",
    "  - Explore the National Folk Museum\n",
    "- Afternoon: Stroll through Insadong\n",
    "  - Enjoy traditional tea houses and shops\n",
    "- Evening: N Seoul Tower\n",
    "  - Panoramic views of the city\n",
    "  - Dine at the revolving restaurant \"\"\", slide_idx=0)\n",
    "agent.save_ppt()"
   ]
  },
  {
   "cell_type": "code",
   "execution_count": 3,
   "metadata": {},
   "outputs": [
    {
     "name": "stdout",
     "output_type": "stream",
     "text": [
      "2025-04-02 18:06:31 - AgentPPT instance created with model: gpt-4o, src_path: src_path, dst_path: working.pptx \n",
      "\n",
      "2025-04-02 18:06:31 - Cleared chat history. \n",
      "\n",
      "2025-04-02 18:06:31 - New presentation created \n",
      "\n"
     ]
    },
    {
     "data": {
      "text/plain": [
       "[<PIL.Image.Image image mode=RGB size=800x600>]"
      ]
     },
     "execution_count": 3,
     "metadata": {},
     "output_type": "execute_result"
    }
   ],
   "source": [
    "agent = AgentPPT()\n",
    "agent.render()"
   ]
  },
  {
   "cell_type": "code",
   "execution_count": 19,
   "metadata": {},
   "outputs": [
    {
     "name": "stdout",
     "output_type": "stream",
     "text": [
      "Conversion completed: 1 files converted successfully, 0 files failed.\n"
     ]
    },
    {
     "data": {
      "image/jpeg": "[encoded data removed]",
      "image/png": "[encoded data removed]",
      "text/plain": [
       "<PIL.Image.Image image mode=RGB size=720x540>"
      ]
     },
     "execution_count": 19,
     "metadata": {},
     "output_type": "execute_result"
    }
   ],
   "source": [
    "ppt = Presentation()\n",
    "slide_layout = ppt.slide_layouts[1]\n",
    "slide = ppt.slides.add_slide(slide_layout)\n",
    "shape = slide.shapes[0]\n",
    "shape.text = \"Raccoon\"\n",
    "shape = slide.shapes.add_table(9, 2, 0, 0, toEmus(2*40), toEmus(3*12))\n",
    "shape.table.columns[0].width = toEmus(500)\n",
    "temp_dir = tempfile.mkdtemp()\n",
    "\n",
    "temp_ppt_path = os.path.join(temp_dir, \"temp_presentation.pptx\")\n",
    "ppt.save(temp_ppt_path)\n",
    "pdf_path = ppt_to_pdf(temp_ppt_path, temp_dir)\n",
    "imgs = slide_images = pdf_to_img(pdf_path)\n",
    "\n",
    "shutil.rmtree(temp_dir)\n",
    "\n",
    "imgs[0]"
   ]
  },
  {
   "cell_type": "code",
   "execution_count": 20,
   "metadata": {},
   "outputs": [
    {
     "data": {
      "text/plain": [
       "<pptx.table.Table at 0x14adff71250>"
      ]
     },
     "execution_count": 20,
     "metadata": {},
     "output_type": "execute_result"
    }
   ],
   "source": [
    "len(shape.)"
   ]
  }
 ],
 "metadata": {
  "kernelspec": {
   "display_name": "fyp",
   "language": "python",
   "name": "python3"
  },
  "language_info": {
   "codemirror_mode": {
    "name": "ipython",
    "version": 3
   },
   "file_extension": ".py",
   "mimetype": "text/x-python",
   "name": "python",
   "nbconvert_exporter": "python",
   "pygments_lexer": "ipython3",
   "version": "3.12.4"
  }
 },
 "nbformat": 4,
 "nbformat_minor": 2
}
