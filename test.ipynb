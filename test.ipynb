{
 "cells": [
  {
   "cell_type": "code",
   "execution_count": 1,
   "metadata": {},
   "outputs": [],
   "source": [
    "from src.agent import AgentPPT\n",
    "from src.openai import generate_image, query\n",
    "from src.ppt_reader import get_shape_content\n",
    "from src.utils import fromEmus, ppt_to_pdf, pdf_to_img, toEmus\n",
    "from pptx import Presentation\n",
    "import src.prompts as prompts\n",
    "import json, os, tempfile, shutil\n"
   ]
  },
  {
   "cell_type": "code",
   "execution_count": 2,
   "metadata": {},
   "outputs": [
    {
     "name": "stdout",
     "output_type": "stream",
     "text": [
      "2025-04-03 01:05:15 - AgentPPT instance created with model: gpt-4o, src_path: src_path, dst_path: working.pptx \n",
      "\n",
      "2025-04-03 01:05:15 - Cleared chat history. \n",
      "\n",
      "2025-04-03 01:05:15 - New presentation created \n",
      "\n",
      "2025-04-03 01:05:15 - Calling PLAN module with prompt: Explain what is vlookup \n",
      "\n",
      "2025-04-03 01:05:30 - Enhanced orginal prompt:\n",
      "\"Create a PowerPoint presentation explaining VLOOKUP. The presentation should include the following slides:\n",
      "\n",
      "1. **Title Slide**: Include the title 'Understanding VLOOKUP' and your name or the date.\n",
      "   \n",
      "2. **Introduction Slide**: Briefly explain what VLOOKUP is and its purpose in Excel.\n",
      "\n",
      "3. **How VLOOKUP Works**: \n",
      "   - Include a detailed explanation of the VLOOKUP function syntax: `=VLOOKUP(lookup_value, table_array, col_index_num, [range_lookup])`.\n",
      "   - Use bullet points to break down each component of the syntax.\n",
      "\n",
      "4. **Example Slide**: \n",
      "   - Provide a practical example of using VLOOKUP with a sample dataset. \n",
      "   - Include a screenshot of the Excel sheet showing the data and the formula.\n",
      "\n",
      "5. **Common Use Cases**: \n",
      "   - List common scenarios where VLOOKUP is useful, such as data retrieval, merging datasets, and creating reports.\n",
      "\n",
      "6. **Limitations of VLOOKUP**: \n",
      "   - Discuss the limitations of VLOOKUP, such as its inability to look left and the requirement for the lookup column to be the first column in the table array.\n",
      "\n",
      "7. **Alternatives to VLOOKUP**: \n",
      "   - Briefly introduce alternatives like INDEX-MATCH and XLOOKUP, highlighting their advantages.\n",
      "\n",
      "8. **Conclusion Slide**: Summarize the key points discussed and the importance of VLOOKUP in data analysis.\n",
      "\n",
      "9. **Q&A Slide**: Invite questions from the audience.\n",
      "\n",
      "**Formatting Preferences**: Use a clean and professional template with a consistent color scheme. Include visuals such as charts or diagrams where applicable, and ensure text is concise with bullet points for clarity.\" \n",
      "\n",
      "2025-04-03 01:05:38 - Slide inserted with template: Title Slide \n",
      "\n",
      "2025-04-03 01:05:38 - Calling ACTION module on slide 0 with prompt: Modify the slide to fulfil the following:Title: Understanding VLOOKUP\n",
      "Subtitle: [Your Name] or [Date] \n",
      "\n",
      "2025-04-03 01:05:41 - API - modify_shape | Status - SUCCESS | Shape modified: {\"text\": \"Understanding VLOOKUP\"} | Arguments - {'shape_index': 0, 'instructions': \"Set the text to 'Understanding VLOOKUP'.\"}\n",
      "API - modify_shape | Status - SUCCESS | Shape modified: {\"text\": \"[Your Name] or [Date]\"} | Arguments - {'shape_index': 1, 'instructions': \"Set the text to '[Your Name] or [Date]'.\"} \n",
      "\n",
      "2025-04-03 01:05:42 - Slide inserted with template: Title and Content \n",
      "\n",
      "2025-04-03 01:05:42 - Calling ACTION module on slide 1 with prompt: Modify the slide to fulfil the following:Title: Introduction to VLOOKUP\n",
      "Content: VLOOKUP is a powerful Excel function used to search for a value in the first column of a table and return a value in the same row from a specified column. It is commonly used for data retrieval and analysis. \n",
      "\n",
      "2025-04-03 01:05:44 - API - modify_shape | Status - SUCCESS | Shape modified: {\"text\": \"Introduction to VLOOKUP\"} | Arguments - {'shape_index': 0, 'instructions': \"Change text to 'Introduction to VLOOKUP'.\"}\n",
      "API - modify_shape | Status - SUCCESS | Shape modified: {\"text\": \"VLOOKUP is a powerful Excel function used to search for a value in the first column of a table and return a value in the same row from a specified column. It is commonly used for data retrieval and analysis.\"} | Arguments - {'shape_index': 1, 'instructions': \"Change text to 'VLOOKUP is a powerful Excel function used to search for a value in the first column of a table and return a value in the same row from a specified column. It is commonly used for data retrieval and analysis.' Ensure text is formatted as a paragraph without bullet points.\"} \n",
      "\n",
      "2025-04-03 01:05:45 - Slide inserted with template: Title and Content \n",
      "\n",
      "2025-04-03 01:05:45 - Calling ACTION module on slide 2 with prompt: Modify the slide to fulfil the following:Title: How VLOOKUP Works\n",
      "Content: \n",
      "- Syntax: =VLOOKUP(lookup_value, table_array, col_index_num, [range_lookup])\n",
      "- lookup_value: The value to search for.\n",
      "- table_array: The range of cells that contains the data.\n",
      "- col_index_num: The column number in the table_array from which to retrieve the value.\n",
      "- [range_lookup]: Optional; TRUE for approximate match or FALSE for exact match. \n",
      "\n",
      "2025-04-03 01:05:48 - API - modify_shape | Status - SUCCESS | Shape modified: {\"text\": \"How VLOOKUP Works\"} | Arguments - {'shape_index': 0, 'instructions': \"Update text to 'How VLOOKUP Works'.\"}\n",
      "API - modify_shape | Status - SUCCESS | Shape modified: {\"text\": \"\\nSyntax: =VLOOKUP(lookup_value, table_array, col_index_num, [range_lookup])\\nlookup_value: The value to search for.\\ntable_array: The range of cells that contains the data.\\ncol_index_num: The column number in the table_array from which to retrieve the value.\\n[range_lookup]: Optional; TRUE for approximate match or FALSE for exact match.\"} | Arguments - {'shape_index': 1, 'instructions': \"Update text to '\\\\nSyntax: =VLOOKUP(lookup_value, table_array, col_index_num, [range_lookup])\\\\nlookup_value: The value to search for.\\\\ntable_array: The range of cells that contains the data.\\\\ncol_index_num: The column number in the table_array from which to retrieve the value.\\\\n[range_lookup]: Optional; TRUE for approximate match or FALSE for exact match.'\"} \n",
      "\n",
      "2025-04-03 01:05:49 - Slide inserted with template: Title and Content \n",
      "\n",
      "2025-04-03 01:05:49 - Calling ACTION module on slide 3 with prompt: Modify the slide to fulfil the following:Title: VLOOKUP Example\n",
      "Content: Here's a practical example of using VLOOKUP with a sample dataset. The formula used is =VLOOKUP(A2, B2:D10, 3, FALSE).\n",
      "Visual: Include a screenshot of an Excel sheet showing the data and the formula. \n",
      "\n",
      "2025-04-03 01:05:54 - API - modify_shape | Status - SUCCESS | Shape modified: {\"text\": \"VLOOKUP Example\"} | Arguments - {'shape_index': 0, 'instructions': \"Change text to 'VLOOKUP Example'.\"}\n",
      "API - modify_shape | Status - SUCCESS | Shape modified: {\"text\": \"Here's a practical example of using VLOOKUP with a sample dataset. The formula used is =VLOOKUP(A2, B2:D10, 3, FALSE).\"} | Arguments - {'shape_index': 1, 'instructions': 'Change text to \"Here\\'s a practical example of using VLOOKUP with a sample dataset. The formula used is =VLOOKUP(A2, B2:D10, 3, FALSE).\"'}\n",
      "API - insert_shape | Status - SUCCESS | Shape inserted: PICTURE | Shape modified: {\"image_content\": \"Screenshot of an Excel sheet showing the data and the formula.\", \"width\": 127, \"height\": 127, \"top\": 100, \"left\": 0, \"has_border\": false, \"border_width\": 0, \"border_color\": \"#000000\"} | Arguments - {'shape_type': 'PICTURE', 'instructions': 'Insert a screenshot of an Excel sheet showing the data and the formula. Position it below the content text box, with a size that fits the remaining space on the slide.'} \n",
      "\n",
      "2025-04-03 01:05:55 - Slide inserted with template: Title and Content \n",
      "\n",
      "2025-04-03 01:05:55 - Calling ACTION module on slide 4 with prompt: Modify the slide to fulfil the following:Title: Common Use Cases\n",
      "Content: \n",
      "- Data retrieval from large datasets\n",
      "- Merging datasets from different sources\n",
      "- Creating dynamic reports\n",
      "- Automating data entry tasks\n",
      "- Simplifying complex data analysis \n",
      "\n",
      "2025-04-03 01:06:07 - API - modify_shape | Status - SUCCESS | Shape modified: {\"text\": \"Common Use Cases\"} | Arguments - {'shape_index': 0, 'instructions': \"Change the text to 'Common Use Cases'.\"}\n",
      "API - modify_shape | Status - SUCCESS | Shape modified: {\"text\": \"Data retrieval from large datasets\\nMerging datasets from different sources\\nCreating dynamic reports\\nAutomating data entry tasks\\nSimplifying complex data analysis\"} | Arguments - {'shape_index': 1, 'instructions': 'Update the text to:\\nData retrieval from large datasets\\nMerging datasets from different sources\\nCreating dynamic reports\\nAutomating data entry tasks\\nSimplifying complex data analysis'} \n",
      "\n",
      "2025-04-03 01:06:09 - Slide inserted with template: Title and Content \n",
      "\n",
      "2025-04-03 01:06:09 - Calling ACTION module on slide 5 with prompt: Modify the slide to fulfil the following:Title: Limitations of VLOOKUP\n",
      "Content: \n",
      "- Cannot look to the left of the lookup column\n",
      "- Requires the lookup column to be the first in the table array\n",
      "- Limited to vertical lookups only\n",
      "- Can be slow with large datasets\n",
      "- Does not handle errors gracefully \n",
      "\n",
      "2025-04-03 01:06:12 - API - modify_shape | Status - SUCCESS | Shape modified: {\"text\": \"Limitations of VLOOKUP\"} | Arguments - {'shape_index': 0, 'instructions': \"Set the text to 'Limitations of VLOOKUP'.\"}\n",
      "API - modify_shape | Status - SUCCESS | Shape modified: {\"text\": \"\\nCannot look to the left of the lookup column\\nRequires the lookup column to be the first in the table array\\nLimited to vertical lookups only\\nCan be slow with large datasets\\nDoes not handle errors gracefully\"} | Arguments - {'shape_index': 1, 'instructions': \"Set the text to '\\\\nCannot look to the left of the lookup column\\\\nRequires the lookup column to be the first in the table array\\\\nLimited to vertical lookups only\\\\nCan be slow with large datasets\\\\nDoes not handle errors gracefully'.\"} \n",
      "\n",
      "2025-04-03 01:06:14 - Slide inserted with template: Title and Content \n",
      "\n",
      "2025-04-03 01:06:14 - Calling ACTION module on slide 6 with prompt: Modify the slide to fulfil the following:Title: Alternatives to VLOOKUP\n",
      "Content: \n",
      "- INDEX-MATCH: More flexible and can look left\n",
      "- XLOOKUP: Newer function with more features\n",
      "- Advantages: Better performance, more intuitive, and handles errors better \n",
      "\n",
      "2025-04-03 01:06:17 - API - modify_shape | Status - SUCCESS | Shape modified: {\"text\": \"Alternatives to VLOOKUP\"} | Arguments - {'shape_index': 0, 'instructions': \"Set the text to 'Alternatives to VLOOKUP'.\"}\n",
      "API - modify_shape | Status - SUCCESS | Shape modified: {\"text\": \"\\nINDEX-MATCH: More flexible and can look left\\nXLOOKUP: Newer function with more features\\nAdvantages: Better performance, more intuitive, and handles errors better\"} | Arguments - {'shape_index': 1, 'instructions': \"Set the text to '\\\\nINDEX-MATCH: More flexible and can look left\\\\nXLOOKUP: Newer function with more features\\\\nAdvantages: Better performance, more intuitive, and handles errors better'.\"} \n",
      "\n",
      "2025-04-03 01:06:18 - Slide inserted with template: Title and Content \n",
      "\n",
      "2025-04-03 01:06:18 - Calling ACTION module on slide 7 with prompt: Modify the slide to fulfil the following:Title: Conclusion\n",
      "Content: VLOOKUP is an essential tool for data analysis, offering a simple way to retrieve and analyze data. Despite its limitations, it remains widely used due to its ease of use and effectiveness in many scenarios. \n",
      "\n",
      "2025-04-03 01:06:21 - API - modify_shape | Status - SUCCESS | Shape modified: {\"text\": \"Conclusion\"} | Arguments - {'shape_index': 0, 'instructions': \"Change the text to 'Conclusion'.\"}\n",
      "API - modify_shape | Status - SUCCESS | Shape modified: {\"text\": \"VLOOKUP is an essential tool for data analysis, offering a simple way to retrieve and analyze data. Despite its limitations, it remains widely used due to its ease of use and effectiveness in many scenarios.\"} | Arguments - {'shape_index': 1, 'instructions': \"Change the text to 'VLOOKUP is an essential tool for data analysis, offering a simple way to retrieve and analyze data. Despite its limitations, it remains widely used due to its ease of use and effectiveness in many scenarios.'\"} \n",
      "\n",
      "2025-04-03 01:06:21 - Slide inserted with template: Title and Content \n",
      "\n",
      "2025-04-03 01:06:21 - Calling ACTION module on slide 8 with prompt: Modify the slide to fulfil the following:Title: Q&A\n",
      "Content: Please feel free to ask any questions you may have about VLOOKUP and its applications. \n",
      "\n",
      "2025-04-03 01:06:24 - API - modify_shape | Status - SUCCESS | Shape modified: {\"text\": \"Q&A\"} | Arguments - {'shape_index': 0, 'instructions': \"Change the text to 'Q&A'.\"}\n",
      "API - modify_shape | Status - SUCCESS | Shape modified: {\"text\": \"Please feel free to ask any questions you may have about VLOOKUP and its applications.\"} | Arguments - {'shape_index': 1, 'instructions': \"Change the text to 'Please feel free to ask any questions you may have about VLOOKUP and its applications.'\"} \n",
      "\n",
      "2025-04-03 01:06:26 - Agent response: \n",
      "The presentation was successfully updated with nine slides, covering topics such as an introduction to VLOOKUP, its syntax, examples, common use cases, limitations, alternatives, and a conclusion, along with a Q&A section. All changes were executed successfully without any issues. \n",
      "\n",
      "2025-04-03 01:06:26 - Presentation saved to working.pptx \n",
      "\n"
     ]
    }
   ],
   "source": [
    "agent = AgentPPT()\n",
    "r = agent.plan_module(\"Explain what is vlookup\")\n",
    "agent.save_ppt()"
   ]
  },
  {
   "cell_type": "code",
   "execution_count": 6,
   "metadata": {},
   "outputs": [
    {
     "name": "stdout",
     "output_type": "stream",
     "text": [
      "2025-04-03 00:41:02 - Presentation saved to working.pptx \n",
      "\n"
     ]
    }
   ],
   "source": [
    "agent.save_ppt()"
   ]
  },
  {
   "cell_type": "code",
   "execution_count": 6,
   "metadata": {},
   "outputs": [
    {
     "name": "stdout",
     "output_type": "stream",
     "text": [
      "2025-04-02 22:01:18 - AgentPPT instance created with model: gpt-4o, src_path: src_path, dst_path: working.pptx \n",
      "\n",
      "2025-04-02 22:01:18 - Cleared chat history. \n",
      "\n",
      "2025-04-02 22:01:18 - New presentation created \n",
      "\n",
      "2025-04-02 22:01:18 - Calling ACTION module on slide 0 with prompt: Change the contents of the slide to the folowing.Title: Day 1 - Discover Seoul\n",
      "Content:\n",
      "- Morning: Visit Gyeongbokgung Palace\n",
      "  - Experience the Changing of the Guard ceremony\n",
      "  - Explore the National Folk Museum\n",
      "- Afternoon: Stroll through Insadong\n",
      "  - Enjoy traditional tea houses and shops\n",
      "- Evening: N Seoul Tower\n",
      "  - Panoramic views of the city\n",
      "  - Dine at the revolving restaurant  \n",
      "\n",
      "2025-04-02 22:01:25 - API - modify_shape | Status - SUCCESS | Shape modified: {\"text\": \"Day 1 - Discover Seoul\"} | Arguments - {'shape_index': 0, 'instructions': \"Change text to 'Day 1 - Discover Seoul'.\"}\n",
      "API - modify_shape | Status - SUCCESS | Shape modified: {\"text\": \"\\nMorning: Visit Gyeongbokgung Palace\\n  Experience the Changing of the Guard ceremony\\n  Explore the National Folk Museum\\nAfternoon: Stroll through Insadong\\n  Enjoy traditional tea houses and shops\\nEvening: N Seoul Tower\\n  Panoramic views of the city\\n  Dine at the revolving restaurant\"} | Arguments - {'shape_index': 1, 'instructions': \"Change text to '\\\\nMorning: Visit Gyeongbokgung Palace\\\\n  Experience the Changing of the Guard ceremony\\\\n  Explore the National Folk Museum\\\\nAfternoon: Stroll through Insadong\\\\n  Enjoy traditional tea houses and shops\\\\nEvening: N Seoul Tower\\\\n  Panoramic views of the city\\\\n  Dine at the revolving restaurant'.\"} \n",
      "\n",
      "2025-04-02 22:01:25 - Presentation saved to working.pptx \n",
      "\n"
     ]
    }
   ],
   "source": [
    "agent = AgentPPT()\n",
    "agent.insert_slide()\n",
    "agent.action_module(\"\"\"Change the contents of the slide to the folowing.Title: Day 1 - Discover Seoul\n",
    "Content:\n",
    "- Morning: Visit Gyeongbokgung Palace\n",
    "  - Experience the Changing of the Guard ceremony\n",
    "  - Explore the National Folk Museum\n",
    "- Afternoon: Stroll through Insadong\n",
    "  - Enjoy traditional tea houses and shops\n",
    "- Evening: N Seoul Tower\n",
    "  - Panoramic views of the city\n",
    "  - Dine at the revolving restaurant \"\"\", slide_idx=0)\n",
    "agent.save_ppt()"
   ]
  },
  {
   "cell_type": "code",
   "execution_count": 3,
   "metadata": {},
   "outputs": [
    {
     "name": "stdout",
     "output_type": "stream",
     "text": [
      "2025-04-02 18:06:31 - AgentPPT instance created with model: gpt-4o, src_path: src_path, dst_path: working.pptx \n",
      "\n",
      "2025-04-02 18:06:31 - Cleared chat history. \n",
      "\n",
      "2025-04-02 18:06:31 - New presentation created \n",
      "\n"
     ]
    },
    {
     "data": {
      "text/plain": [
       "[<PIL.Image.Image image mode=RGB size=800x600>]"
      ]
     },
     "execution_count": 3,
     "metadata": {},
     "output_type": "execute_result"
    }
   ],
   "source": [
    "agent = AgentPPT()\n",
    "agent.render()"
   ]
  },
  {
   "cell_type": "code",
   "execution_count": 19,
   "metadata": {},
   "outputs": [
    {
     "name": "stdout",
     "output_type": "stream",
     "text": [
      "Conversion completed: 1 files converted successfully, 0 files failed.\n"
     ]
    },
    {
     "data": {
      "image/jpeg": "[encoded data removed]",
      "image/png": "[encoded data removed]",
      "text/plain": [
       "<PIL.Image.Image image mode=RGB size=720x540>"
      ]
     },
     "execution_count": 19,
     "metadata": {},
     "output_type": "execute_result"
    }
   ],
   "source": [
    "ppt = Presentation()\n",
    "slide_layout = ppt.slide_layouts[1]\n",
    "slide = ppt.slides.add_slide(slide_layout)\n",
    "shape = slide.shapes[0]\n",
    "shape.text = \"Raccoon\"\n",
    "shape = slide.shapes.add_table(9, 2, 0, 0, toEmus(2*40), toEmus(3*12))\n",
    "shape.table.columns[0].width = toEmus(500)\n",
    "temp_dir = tempfile.mkdtemp()\n",
    "\n",
    "temp_ppt_path = os.path.join(temp_dir, \"temp_presentation.pptx\")\n",
    "ppt.save(temp_ppt_path)\n",
    "pdf_path = ppt_to_pdf(temp_ppt_path, temp_dir)\n",
    "imgs = slide_images = pdf_to_img(pdf_path)\n",
    "\n",
    "shutil.rmtree(temp_dir)\n",
    "\n",
    "imgs[0]"
   ]
  },
  {
   "cell_type": "code",
   "execution_count": 20,
   "metadata": {},
   "outputs": [
    {
     "data": {
      "text/plain": [
       "<pptx.table.Table at 0x14adff71250>"
      ]
     },
     "execution_count": 20,
     "metadata": {},
     "output_type": "execute_result"
    }
   ],
   "source": [
    "len(shape.)"
   ]
  }
 ],
 "metadata": {
  "kernelspec": {
   "display_name": "fyp",
   "language": "python",
   "name": "python3"
  },
  "language_info": {
   "codemirror_mode": {
    "name": "ipython",
    "version": 3
   },
   "file_extension": ".py",
   "mimetype": "text/x-python",
   "name": "python",
   "nbconvert_exporter": "python",
   "pygments_lexer": "ipython3",
   "version": "3.12.4"
  }
 },
 "nbformat": 4,
 "nbformat_minor": 2
}
