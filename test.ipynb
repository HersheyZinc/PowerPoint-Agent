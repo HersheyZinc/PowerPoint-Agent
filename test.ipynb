{
 "cells": [
  {
   "cell_type": "code",
   "execution_count": 1,
   "metadata": {},
   "outputs": [
    {
     "name": "stderr",
     "output_type": "stream",
     "text": [
      "sh: 1: libreoffice: not found\n"
     ]
    },
    {
     "ename": "FileNotFoundError",
     "evalue": "no such file: 'test.pdf'",
     "output_type": "error",
     "traceback": [
      "\u001b[31m---------------------------------------------------------------------------\u001b[39m",
      "\u001b[31mFileNotFoundError\u001b[39m                         Traceback (most recent call last)",
      "\u001b[32m/tmp/ipykernel_6261/3482523748.py\u001b[39m in \u001b[36m?\u001b[39m\u001b[34m()\u001b[39m\n\u001b[32m     13\u001b[39m     os.remove(pdf_path)\n\u001b[32m     14\u001b[39m \n\u001b[32m     15\u001b[39m os.system(f'libreoffice --headless --convert-to pdf \"{ppt_path}\" --outdir \"\"')\n\u001b[32m     16\u001b[39m \n\u001b[32m---> \u001b[39m\u001b[32m17\u001b[39m \u001b[38;5;28;01mwith\u001b[39;00m pymupdf.open(pdf_path) \u001b[38;5;28;01mas\u001b[39;00m doc:\n\u001b[32m     18\u001b[39m     \u001b[38;5;28;01mfor\u001b[39;00m idx, page \u001b[38;5;28;01min\u001b[39;00m enumerate(doc):\n\u001b[32m     19\u001b[39m         pix = page.get_pixmap()\n\u001b[32m     20\u001b[39m         pix.save(f\"{dst_dir}/{idx}.png\")\n",
      "\u001b[32m~/.local/lib/python3.12/site-packages/pymupdf/__init__.py\u001b[39m in \u001b[36m?\u001b[39m\u001b[34m(self, filename, stream, filetype, rect, width, height, fontsize)\u001b[39m\n\u001b[32m   3035\u001b[39m                     self.page_count2 = extra.page_count_pdf\n\u001b[32m   3036\u001b[39m                 \u001b[38;5;28;01melse\u001b[39;00m:\n\u001b[32m   3037\u001b[39m                     self.page_count2 = extra.page_count_fz\n\u001b[32m   3038\u001b[39m         \u001b[38;5;28;01mfinally\u001b[39;00m:\n\u001b[32m-> \u001b[39m\u001b[32m3039\u001b[39m             JM_mupdf_show_errors = JM_mupdf_show_errors_old\n",
      "\u001b[31mFileNotFoundError\u001b[39m: no such file: 'test.pdf'"
     ]
    }
   ],
   "source": [
    "from pptx import Presentation\n",
    "# from pptxtopdf import convert as convert_pptx_to_pdf\n",
    "import os, pymupdf\n",
    "\n",
    "# Load PowerPoint file\n",
    "ppt_path = \"test.pptx\"\n",
    "pdf_path = ppt_path.replace(\".pptx\", \".pdf\")\n",
    "dst_dir = \"slide_previews\"\n",
    "\n",
    "os.makedirs(dst_dir, exist_ok=True)\n",
    "pdf_path = ppt_path.replace(\".pptx\", \".pdf\")\n",
    "if os.path.exists(pdf_path):\n",
    "    os.remove(pdf_path)\n",
    "\n",
    "os.system(f'libreoffice --headless --convert-to pdf \"{ppt_path}\" --outdir \"\"')\n",
    "\n",
    "with pymupdf.open(pdf_path) as doc:\n",
    "    for idx, page in enumerate(doc):\n",
    "        pix = page.get_pixmap()\n",
    "        pix.save(f\"{dst_dir}/{idx}.png\")\n",
    "\n"
   ]
  },
  {
   "cell_type": "code",
   "execution_count": null,
   "metadata": {},
   "outputs": [],
   "source": []
  }
 ],
 "metadata": {
  "kernelspec": {
   "display_name": "Python 3",
   "language": "python",
   "name": "python3"
  },
  "language_info": {
   "codemirror_mode": {
    "name": "ipython",
    "version": 3
   },
   "file_extension": ".py",
   "mimetype": "text/x-python",
   "name": "python",
   "nbconvert_exporter": "python",
   "pygments_lexer": "ipython3",
   "version": "3.12.1"
  }
 },
 "nbformat": 4,
 "nbformat_minor": 2
}
