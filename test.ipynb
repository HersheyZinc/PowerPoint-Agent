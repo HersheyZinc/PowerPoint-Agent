{
 "cells": [
  {
   "cell_type": "code",
   "execution_count": 6,
   "metadata": {},
   "outputs": [
    {
     "name": "stdout",
     "output_type": "stream",
     "text": [
      "Conversion completed: 1 files converted successfully, 0 files failed.\n"
     ]
    }
   ],
   "source": [
    "from pptx import Presentation\n",
    "from pptxtopdf import convert as convert_pptx_to_pdf\n",
    "import os, pymupdf\n",
    "\n",
    "# Load PowerPoint file\n",
    "ppt_path = \"test.pptx\"\n",
    "pdf_path = ppt_path.replace(\".pptx\", \".pdf\")\n",
    "dst_dir = \"slide_previews\"\n",
    "\n",
    "os.makedirs(dst_dir, exist_ok=True)\n",
    "pdf_path = ppt_path.replace(\".pptx\", \".pdf\")\n",
    "if os.path.exists(pdf_path):\n",
    "    os.remove(pdf_path)\n",
    "convert_pptx_to_pdf(ppt_path, \"\")\n",
    "with pymupdf.open(pdf_path) as doc:\n",
    "    for idx, page in enumerate(doc):\n",
    "        pix = page.get_pixmap()\n",
    "        pix.save(f\"{dst_dir}/{idx}.png\")\n",
    "\n"
   ]
  },
  {
   "cell_type": "code",
   "execution_count": 2,
   "metadata": {},
   "outputs": [
    {
     "name": "stdout",
     "output_type": "stream",
     "text": [
      "Error converting file 'c:\\Users\\xunxu\\Desktop\\Code\\PowerPoint Agent\\test.pptx': (-2147467259, 'Unspecified error', ('Presentation (unknown member) : The slides you have selected to print no longer exist. Please make another selection.', 'Microsoft PowerPoint', '', 0, None))\n",
      "Conversion completed: 0 files converted successfully, 1 files failed.\n"
     ]
    }
   ],
   "source": [
    "from pptxtopdf import convert as convert_pptx_to_pdf\n",
    "convert_pptx_to_pdf(\"test.pptx\", \"\") # Windows"
   ]
  },
  {
   "cell_type": "code",
   "execution_count": 1,
   "metadata": {},
   "outputs": [
    {
     "name": "stdout",
     "output_type": "stream",
     "text": [
      "Conversion completed: 1 files converted successfully, 0 files failed.\n"
     ]
    }
   ],
   "source": [
    "from src import agent\n",
    "\n",
    "pptagent = agent.AgentPPT()\n",
    "pptagent.insert_slide()\n",
    "\n",
    "imgs = pptagent.render()"
   ]
  }
 ],
 "metadata": {
  "kernelspec": {
   "display_name": "fyp",
   "language": "python",
   "name": "python3"
  },
  "language_info": {
   "codemirror_mode": {
    "name": "ipython",
    "version": 3
   },
   "file_extension": ".py",
   "mimetype": "text/x-python",
   "name": "python",
   "nbconvert_exporter": "python",
   "pygments_lexer": "ipython3",
   "version": "3.12.4"
  }
 },
 "nbformat": 4,
 "nbformat_minor": 2
}
